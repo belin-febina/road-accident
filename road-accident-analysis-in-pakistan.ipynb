{
 "cells": [
  {
   "cell_type": "markdown",
   "id": "ee0c5104",
   "metadata": {
    "papermill": {
     "duration": 0.009541,
     "end_time": "2023-07-03T14:26:35.004413",
     "exception": false,
     "start_time": "2023-07-03T14:26:34.994872",
     "status": "completed"
    },
    "tags": []
   },
   "source": [
    "# Data Cleaning and Preprocessing"
   ]
  },
  {
   "cell_type": "markdown",
   "id": "26234221",
   "metadata": {
    "papermill": {
     "duration": 0.006939,
     "end_time": "2023-07-03T14:26:35.018985",
     "exception": false,
     "start_time": "2023-07-03T14:26:35.012046",
     "status": "completed"
    },
    "tags": []
   },
   "source": [
    "**Importing the dataset and getting an overview**"
   ]
  },
  {
   "cell_type": "code",
   "execution_count": 1,
   "id": "c5dd6f4b",
   "metadata": {
    "execution": {
     "iopub.execute_input": "2023-07-03T14:26:35.035708Z",
     "iopub.status.busy": "2023-07-03T14:26:35.035044Z",
     "iopub.status.idle": "2023-07-03T14:26:35.101137Z",
     "shell.execute_reply": "2023-07-03T14:26:35.099796Z"
    },
    "papermill": {
     "duration": 0.077572,
     "end_time": "2023-07-03T14:26:35.103939",
     "exception": false,
     "start_time": "2023-07-03T14:26:35.026367",
     "status": "completed"
    },
    "tags": []
   },
   "outputs": [
    {
     "name": "stdout",
     "output_type": "stream",
     "text": [
      "  Month - Year  Total Number of Accident  Accident Fatal  Accident Non-Fatal  \\\n",
      "0     Pakistan                       NaN             NaN                 NaN   \n",
      "1    2012-2013                    8988.0          3884.0              5104.0   \n",
      "2    2013-2014                    8359.0          3500.0              4859.0   \n",
      "3    2014-2015                    7865.0          3214.0              4651.0   \n",
      "4    2015-2016                    9100.0          3591.0              5509.0   \n",
      "\n",
      "   Person Killed  Person Injured  Total Number of vehicles Involves  \n",
      "0            NaN             NaN                                NaN  \n",
      "1         4719.0          9710.0                             9876.0  \n",
      "2         4348.0          9777.0                             9423.0  \n",
      "3         3954.0          9661.0                             8949.0  \n",
      "4         4448.0         11544.0                            10636.0  \n",
      "<class 'pandas.core.frame.DataFrame'>\n",
      "RangeIndex: 132 entries, 0 to 131\n",
      "Data columns (total 7 columns):\n",
      " #   Column                             Non-Null Count  Dtype  \n",
      "---  ------                             --------------  -----  \n",
      " 0   Month - Year                       132 non-null    object \n",
      " 1   Total Number of Accident           126 non-null    float64\n",
      " 2   Accident Fatal                     126 non-null    float64\n",
      " 3   Accident Non-Fatal                 126 non-null    float64\n",
      " 4   Person Killed                      126 non-null    float64\n",
      " 5   Person Injured                     126 non-null    float64\n",
      " 6   Total Number of vehicles Involves  126 non-null    float64\n",
      "dtypes: float64(6), object(1)\n",
      "memory usage: 7.3+ KB\n",
      "None\n"
     ]
    }
   ],
   "source": [
    "# Import necessary libraries\n",
    "import pandas as pd\n",
    "import numpy as np\n",
    "\n",
    "# Load the dataset\n",
    "df = pd.read_csv('/kaggle/input/road-accident-in-pakistan-2012-2021/Traffic Accidents in Pakistan.csv')\n",
    "\n",
    "# Get an overview of the dataset\n",
    "print(df.head())\n",
    "print(df.info())"
   ]
  },
  {
   "cell_type": "markdown",
   "id": "e72b7e3c",
   "metadata": {
    "papermill": {
     "duration": 0.007574,
     "end_time": "2023-07-03T14:26:35.119299",
     "exception": false,
     "start_time": "2023-07-03T14:26:35.111725",
     "status": "completed"
    },
    "tags": []
   },
   "source": [
    "**Checking and handling missing data:**"
   ]
  },
  {
   "cell_type": "code",
   "execution_count": 2,
   "id": "4e1db59f",
   "metadata": {
    "execution": {
     "iopub.execute_input": "2023-07-03T14:26:35.136061Z",
     "iopub.status.busy": "2023-07-03T14:26:35.135673Z",
     "iopub.status.idle": "2023-07-03T14:26:35.142386Z",
     "shell.execute_reply": "2023-07-03T14:26:35.141367Z"
    },
    "papermill": {
     "duration": 0.017778,
     "end_time": "2023-07-03T14:26:35.144699",
     "exception": false,
     "start_time": "2023-07-03T14:26:35.126921",
     "status": "completed"
    },
    "tags": []
   },
   "outputs": [
    {
     "name": "stdout",
     "output_type": "stream",
     "text": [
      "Month - Year                         0\n",
      "Total Number of Accident             6\n",
      "Accident Fatal                       6\n",
      "Accident Non-Fatal                   6\n",
      "Person Killed                        6\n",
      "Person Injured                       6\n",
      "Total Number of vehicles Involves    6\n",
      "dtype: int64\n"
     ]
    }
   ],
   "source": [
    "# Check for missing values\n",
    "print(df.isnull().sum())\n",
    "\n",
    "# If there are missing values, you can handle them appropriately. \n",
    "# For example, if you want to fill missing values with the mean, you can do:\n",
    "# df = df.fillna(df.mean())"
   ]
  },
  {
   "cell_type": "markdown",
   "id": "494c87a2",
   "metadata": {
    "papermill": {
     "duration": 0.007095,
     "end_time": "2023-07-03T14:26:35.159376",
     "exception": false,
     "start_time": "2023-07-03T14:26:35.152281",
     "status": "completed"
    },
    "tags": []
   },
   "source": [
    "**Checking data types and making necessary conversions**"
   ]
  },
  {
   "cell_type": "code",
   "execution_count": 3,
   "id": "77db7a3d",
   "metadata": {
    "execution": {
     "iopub.execute_input": "2023-07-03T14:26:35.175926Z",
     "iopub.status.busy": "2023-07-03T14:26:35.175284Z",
     "iopub.status.idle": "2023-07-03T14:26:35.182604Z",
     "shell.execute_reply": "2023-07-03T14:26:35.180964Z"
    },
    "papermill": {
     "duration": 0.018706,
     "end_time": "2023-07-03T14:26:35.185390",
     "exception": false,
     "start_time": "2023-07-03T14:26:35.166684",
     "status": "completed"
    },
    "tags": []
   },
   "outputs": [
    {
     "name": "stdout",
     "output_type": "stream",
     "text": [
      "Month - Year                          object\n",
      "Total Number of Accident             float64\n",
      "Accident Fatal                       float64\n",
      "Accident Non-Fatal                   float64\n",
      "Person Killed                        float64\n",
      "Person Injured                       float64\n",
      "Total Number of vehicles Involves    float64\n",
      "dtype: object\n"
     ]
    }
   ],
   "source": [
    "# Check data types\n",
    "print(df.dtypes)"
   ]
  },
  {
   "cell_type": "markdown",
   "id": "6e5002f6",
   "metadata": {
    "papermill": {
     "duration": 0.008189,
     "end_time": "2023-07-03T14:26:35.201787",
     "exception": false,
     "start_time": "2023-07-03T14:26:35.193598",
     "status": "completed"
    },
    "tags": []
   },
   "source": [
    "**Identifying and handling outliers**"
   ]
  },
  {
   "cell_type": "code",
   "execution_count": 4,
   "id": "a82ecb22",
   "metadata": {
    "execution": {
     "iopub.execute_input": "2023-07-03T14:26:35.226423Z",
     "iopub.status.busy": "2023-07-03T14:26:35.225670Z",
     "iopub.status.idle": "2023-07-03T14:26:35.236173Z",
     "shell.execute_reply": "2023-07-03T14:26:35.235090Z"
    },
    "papermill": {
     "duration": 0.026065,
     "end_time": "2023-07-03T14:26:35.238963",
     "exception": false,
     "start_time": "2023-07-03T14:26:35.212898",
     "status": "completed"
    },
    "tags": []
   },
   "outputs": [],
   "source": [
    "Q1 = df['Total Number of Accident'].quantile(0.25)\n",
    "Q3 = df['Total Number of Accident'].quantile(0.75)\n",
    "IQR = Q3 - Q1\n",
    "\n",
    "filter = (df['Total Number of Accident'] >= Q1 - 1.5 * IQR) & (df['Total Number of Accident'] <= Q3 + 1.5 *IQR)\n",
    "df = df.loc[filter]  "
   ]
  },
  {
   "cell_type": "markdown",
   "id": "14dbc3eb",
   "metadata": {
    "papermill": {
     "duration": 0.009808,
     "end_time": "2023-07-03T14:26:35.260203",
     "exception": false,
     "start_time": "2023-07-03T14:26:35.250395",
     "status": "completed"
    },
    "tags": []
   },
   "source": [
    "# Exploratory Data Analysis (EDA)"
   ]
  },
  {
   "cell_type": "markdown",
   "id": "43bc21f9",
   "metadata": {
    "papermill": {
     "duration": 0.007334,
     "end_time": "2023-07-03T14:26:35.275791",
     "exception": false,
     "start_time": "2023-07-03T14:26:35.268457",
     "status": "completed"
    },
    "tags": []
   },
   "source": [
    "**Analyzing the distribution of features in the dataset**"
   ]
  },
  {
   "cell_type": "code",
   "execution_count": 5,
   "id": "fef0c724",
   "metadata": {
    "execution": {
     "iopub.execute_input": "2023-07-03T14:26:35.293010Z",
     "iopub.status.busy": "2023-07-03T14:26:35.292597Z",
     "iopub.status.idle": "2023-07-03T14:26:38.674790Z",
     "shell.execute_reply": "2023-07-03T14:26:38.673628Z"
    },
    "papermill": {
     "duration": 3.393832,
     "end_time": "2023-07-03T14:26:38.677318",
     "exception": false,
     "start_time": "2023-07-03T14:26:35.283486",
     "status": "completed"
    },
    "tags": []
   },
   "outputs": [
    {
     "data": {
      "image/png": "[encoded data removed]",
      "text/plain": [
       "<Figure size 2000x1500 with 6 Axes>"
      ]
     },
     "metadata": {},
     "output_type": "display_data"
    }
   ],
   "source": [
    "# Import necessary libraries\n",
    "import matplotlib.pyplot as plt\n",
    "import seaborn as sns\n",
    "\n",
    "# Plot histograms for all numeric columns\n",
    "df.hist(bins=50, figsize=(20,15))\n",
    "plt.show()"
   ]
  },
  {
   "cell_type": "markdown",
   "id": "599cf5c8",
   "metadata": {
    "papermill": {
     "duration": 0.008316,
     "end_time": "2023-07-03T14:26:38.694299",
     "exception": false,
     "start_time": "2023-07-03T14:26:38.685983",
     "status": "completed"
    },
    "tags": []
   },
   "source": [
    "**Investigating the fatal and non-fatal nature of accidents**"
   ]
  },
  {
   "cell_type": "code",
   "execution_count": 6,
   "id": "20c0eecd",
   "metadata": {
    "execution": {
     "iopub.execute_input": "2023-07-03T14:26:38.713668Z",
     "iopub.status.busy": "2023-07-03T14:26:38.713270Z",
     "iopub.status.idle": "2023-07-03T14:26:38.956036Z",
     "shell.execute_reply": "2023-07-03T14:26:38.954911Z"
    },
    "papermill": {
     "duration": 0.255707,
     "end_time": "2023-07-03T14:26:38.958844",
     "exception": false,
     "start_time": "2023-07-03T14:26:38.703137",
     "status": "completed"
    },
    "tags": []
   },
   "outputs": [
    {
     "data": {
      "image/png": "[encoded data removed]",
      "text/plain": [
       "<Figure size 1000x600 with 1 Axes>"
      ]
     },
     "metadata": {},
     "output_type": "display_data"
    }
   ],
   "source": [
    "# Plotting the count of fatal and non-fatal accidents\n",
    "plt.figure(figsize=(10,6))\n",
    "plt.bar(['Fatal', 'Non-Fatal'], [df['Accident Fatal'].sum(), df['Accident Non-Fatal'].sum()])\n",
    "plt.xlabel('Accident Type')\n",
    "plt.ylabel('Count')\n",
    "plt.title('Count of Fatal and Non-Fatal Accidents')\n",
    "plt.show()"
   ]
  },
  {
   "cell_type": "markdown",
   "id": "1e4072cd",
   "metadata": {
    "papermill": {
     "duration": 0.00899,
     "end_time": "2023-07-03T14:26:38.977594",
     "exception": false,
     "start_time": "2023-07-03T14:26:38.968604",
     "status": "completed"
    },
    "tags": []
   },
   "source": [
    "**Investigating the effect of the number of vehicles involved in the severity of accidents**"
   ]
  },
  {
   "cell_type": "code",
   "execution_count": 7,
   "id": "5cb8a0cf",
   "metadata": {
    "execution": {
     "iopub.execute_input": "2023-07-03T14:26:38.998045Z",
     "iopub.status.busy": "2023-07-03T14:26:38.997052Z",
     "iopub.status.idle": "2023-07-03T14:26:39.270098Z",
     "shell.execute_reply": "2023-07-03T14:26:39.269123Z"
    },
    "papermill": {
     "duration": 0.285939,
     "end_time": "2023-07-03T14:26:39.272617",
     "exception": false,
     "start_time": "2023-07-03T14:26:38.986678",
     "status": "completed"
    },
    "tags": []
   },
   "outputs": [
    {
     "data": {
      "image/png": "[encoded data removed]",
      "text/plain": [
       "<Figure size 1000x600 with 1 Axes>"
      ]
     },
     "metadata": {},
     "output_type": "display_data"
    }
   ],
   "source": [
    "# Assuming 'Accident Severity' is a binary column where 1 represents fatal and 0 represents non-fatal\n",
    "df['Accident Severity'] = np.where(df['Accident Fatal'] > df['Accident Non-Fatal'], 1, 0)\n",
    "\n",
    "# Plotting the relationship between the number of vehicles involved and accident severity\n",
    "plt.figure(figsize=(10,6))\n",
    "sns.boxplot(x='Accident Severity', y='Total Number of vehicles Involves', data=df)\n",
    "plt.xlabel('Accident Severity (1 - Fatal, 0 - Non-Fatal)')\n",
    "plt.ylabel('Total Number of Vehicles Involved')\n",
    "plt.title('Effect of Number of Vehicles Involved on Accident Severity')\n",
    "plt.show()"
   ]
  },
  {
   "cell_type": "markdown",
   "id": "b26a0d9d",
   "metadata": {
    "papermill": {
     "duration": 0.009084,
     "end_time": "2023-07-03T14:26:39.291296",
     "exception": false,
     "start_time": "2023-07-03T14:26:39.282212",
     "status": "completed"
    },
    "tags": []
   },
   "source": [
    "# Estimate of Deaths and Injury"
   ]
  },
  {
   "cell_type": "markdown",
   "id": "672052ee",
   "metadata": {
    "papermill": {
     "duration": 0.009168,
     "end_time": "2023-07-03T14:26:39.309834",
     "exception": false,
     "start_time": "2023-07-03T14:26:39.300666",
     "status": "completed"
    },
    "tags": []
   },
   "source": [
    "**Import necessary libraries**"
   ]
  },
  {
   "cell_type": "code",
   "execution_count": 8,
   "id": "0bc36791",
   "metadata": {
    "execution": {
     "iopub.execute_input": "2023-07-03T14:26:39.330398Z",
     "iopub.status.busy": "2023-07-03T14:26:39.329703Z",
     "iopub.status.idle": "2023-07-03T14:26:39.826554Z",
     "shell.execute_reply": "2023-07-03T14:26:39.825599Z"
    },
    "papermill": {
     "duration": 0.509973,
     "end_time": "2023-07-03T14:26:39.829090",
     "exception": false,
     "start_time": "2023-07-03T14:26:39.319117",
     "status": "completed"
    },
    "tags": []
   },
   "outputs": [],
   "source": [
    "from sklearn.model_selection import train_test_split\n",
    "from sklearn.linear_model import LinearRegression\n",
    "from sklearn.metrics import mean_squared_error, mean_absolute_error"
   ]
  },
  {
   "cell_type": "markdown",
   "id": "d67509e3",
   "metadata": {
    "papermill": {
     "duration": 0.009196,
     "end_time": "2023-07-03T14:26:39.848038",
     "exception": false,
     "start_time": "2023-07-03T14:26:39.838842",
     "status": "completed"
    },
    "tags": []
   },
   "source": [
    "**Select the relevant columns for the regression model**"
   ]
  },
  {
   "cell_type": "code",
   "execution_count": 9,
   "id": "c0af8236",
   "metadata": {
    "execution": {
     "iopub.execute_input": "2023-07-03T14:26:39.868718Z",
     "iopub.status.busy": "2023-07-03T14:26:39.868268Z",
     "iopub.status.idle": "2023-07-03T14:26:39.875279Z",
     "shell.execute_reply": "2023-07-03T14:26:39.874287Z"
    },
    "papermill": {
     "duration": 0.020098,
     "end_time": "2023-07-03T14:26:39.877510",
     "exception": false,
     "start_time": "2023-07-03T14:26:39.857412",
     "status": "completed"
    },
    "tags": []
   },
   "outputs": [],
   "source": [
    "X = df[['Person Killed', 'Person Injured']]\n",
    "y_death = df['Person Killed']\n",
    "y_injury = df['Person Injured']"
   ]
  },
  {
   "cell_type": "markdown",
   "id": "e46d47a1",
   "metadata": {
    "papermill": {
     "duration": 0.009334,
     "end_time": "2023-07-03T14:26:39.896398",
     "exception": false,
     "start_time": "2023-07-03T14:26:39.887064",
     "status": "completed"
    },
    "tags": []
   },
   "source": [
    "**Split the data into training and testing sets**"
   ]
  },
  {
   "cell_type": "code",
   "execution_count": 10,
   "id": "4d93357f",
   "metadata": {
    "execution": {
     "iopub.execute_input": "2023-07-03T14:26:39.917085Z",
     "iopub.status.busy": "2023-07-03T14:26:39.916737Z",
     "iopub.status.idle": "2023-07-03T14:26:39.923523Z",
     "shell.execute_reply": "2023-07-03T14:26:39.922822Z"
    },
    "papermill": {
     "duration": 0.019497,
     "end_time": "2023-07-03T14:26:39.925392",
     "exception": false,
     "start_time": "2023-07-03T14:26:39.905895",
     "status": "completed"
    },
    "tags": []
   },
   "outputs": [],
   "source": [
    "X_train, X_test, y_death_train, y_death_test = train_test_split(X, y_death, test_size=0.2, random_state=42)\n",
    "X_train, X_test, y_injury_train, y_injury_test = train_test_split(X, y_injury, test_size=0.2, random_state=42)"
   ]
  },
  {
   "cell_type": "markdown",
   "id": "a2a586ae",
   "metadata": {
    "papermill": {
     "duration": 0.009203,
     "end_time": "2023-07-03T14:26:39.944171",
     "exception": false,
     "start_time": "2023-07-03T14:26:39.934968",
     "status": "completed"
    },
    "tags": []
   },
   "source": [
    "**Create and train the regression model for predicting deaths**"
   ]
  },
  {
   "cell_type": "code",
   "execution_count": 11,
   "id": "9e95d46a",
   "metadata": {
    "execution": {
     "iopub.execute_input": "2023-07-03T14:26:39.965078Z",
     "iopub.status.busy": "2023-07-03T14:26:39.964087Z",
     "iopub.status.idle": "2023-07-03T14:26:40.001082Z",
     "shell.execute_reply": "2023-07-03T14:26:39.999898Z"
    },
    "papermill": {
     "duration": 0.049759,
     "end_time": "2023-07-03T14:26:40.003357",
     "exception": false,
     "start_time": "2023-07-03T14:26:39.953598",
     "status": "completed"
    },
    "tags": []
   },
   "outputs": [
    {
     "data": {
      "text/html": [
       "<style>#sk-container-id-1 {color: black;background-color: white;}#sk-container-id-1 pre{padding: 0;}#sk-container-id-1 div.sk-toggleable {background-color: white;}#sk-container-id-1 label.sk-toggleable__label {cursor: pointer;display: block;width: 100%;margin-bottom: 0;padding: 0.3em;box-sizing: border-box;text-align: center;}#sk-container-id-1 label.sk-toggleable__label-arrow:before {content: \"▸\";float: left;margin-right: 0.25em;color: #696969;}#sk-container-id-1 label.sk-toggleable__label-arrow:hover:before {color: black;}#sk-container-id-1 div.sk-estimator:hover label.sk-toggleable__label-arrow:before {color: black;}#sk-container-id-1 div.sk-toggleable__content {max-height: 0;max-width: 0;overflow: hidden;text-align: left;background-color: #f0f8ff;}#sk-container-id-1 div.sk-toggleable__content pre {margin: 0.2em;color: black;border-radius: 0.25em;background-color: #f0f8ff;}#sk-container-id-1 input.sk-toggleable__control:checked~div.sk-toggleable__content {max-height: 200px;max-width: 100%;overflow: auto;}#sk-container-id-1 input.sk-toggleable__control:checked~label.sk-toggleable__label-arrow:before {content: \"▾\";}#sk-container-id-1 div.sk-estimator input.sk-toggleable__control:checked~label.sk-toggleable__label {background-color: #d4ebff;}#sk-container-id-1 div.sk-label input.sk-toggleable__control:checked~label.sk-toggleable__label {background-color: #d4ebff;}#sk-container-id-1 input.sk-hidden--visually {border: 0;clip: rect(1px 1px 1px 1px);clip: rect(1px, 1px, 1px, 1px);height: 1px;margin: -1px;overflow: hidden;padding: 0;position: absolute;width: 1px;}#sk-container-id-1 div.sk-estimator {font-family: monospace;background-color: #f0f8ff;border: 1px dotted black;border-radius: 0.25em;box-sizing: border-box;margin-bottom: 0.5em;}#sk-container-id-1 div.sk-estimator:hover {background-color: #d4ebff;}#sk-container-id-1 div.sk-parallel-item::after {content: \"\";width: 100%;border-bottom: 1px solid gray;flex-grow: 1;}#sk-container-id-1 div.sk-label:hover label.sk-toggleable__label {background-color: #d4ebff;}#sk-container-id-1 div.sk-serial::before {content: \"\";position: absolute;border-left: 1px solid gray;box-sizing: border-box;top: 0;bottom: 0;left: 50%;z-index: 0;}#sk-container-id-1 div.sk-serial {display: flex;flex-direction: column;align-items: center;background-color: white;padding-right: 0.2em;padding-left: 0.2em;position: relative;}#sk-container-id-1 div.sk-item {position: relative;z-index: 1;}#sk-container-id-1 div.sk-parallel {display: flex;align-items: stretch;justify-content: center;background-color: white;position: relative;}#sk-container-id-1 div.sk-item::before, #sk-container-id-1 div.sk-parallel-item::before {content: \"\";position: absolute;border-left: 1px solid gray;box-sizing: border-box;top: 0;bottom: 0;left: 50%;z-index: -1;}#sk-container-id-1 div.sk-parallel-item {display: flex;flex-direction: column;z-index: 1;position: relative;background-color: white;}#sk-container-id-1 div.sk-parallel-item:first-child::after {align-self: flex-end;width: 50%;}#sk-container-id-1 div.sk-parallel-item:last-child::after {align-self: flex-start;width: 50%;}#sk-container-id-1 div.sk-parallel-item:only-child::after {width: 0;}#sk-container-id-1 div.sk-dashed-wrapped {border: 1px dashed gray;margin: 0 0.4em 0.5em 0.4em;box-sizing: border-box;padding-bottom: 0.4em;background-color: white;}#sk-container-id-1 div.sk-label label {font-family: monospace;font-weight: bold;display: inline-block;line-height: 1.2em;}#sk-container-id-1 div.sk-label-container {text-align: center;}#sk-container-id-1 div.sk-container {/* jupyter's `normalize.less` sets `[hidden] { display: none; }` but bootstrap.min.css set `[hidden] { display: none !important; }` so we also need the `!important` here to be able to override the default hidden behavior on the sphinx rendered scikit-learn.org. See: https://github.com/scikit-learn/scikit-learn/issues/21755 */display: inline-block !important;position: relative;}#sk-container-id-1 div.sk-text-repr-fallback {display: none;}</style><div id=\"sk-container-id-1\" class=\"sk-top-container\"><div class=\"sk-text-repr-fallback\"><pre>LinearRegression()</pre><b>In a Jupyter environment, please rerun this cell to show the HTML representation or trust the notebook. <br />On GitHub, the HTML representation is unable to render, please try loading this page with nbviewer.org.</b></div><div class=\"sk-container\" hidden><div class=\"sk-item\"><div class=\"sk-estimator sk-toggleable\"><input class=\"sk-toggleable__control sk-hidden--visually\" id=\"sk-estimator-id-1\" type=\"checkbox\" checked><label for=\"sk-estimator-id-1\" class=\"sk-toggleable__label sk-toggleable__label-arrow\">LinearRegression</label><div class=\"sk-toggleable__content\"><pre>LinearRegression()</pre></div></div></div></div></div>"
      ],
      "text/plain": [
       "LinearRegression()"
      ]
     },
     "execution_count": 11,
     "metadata": {},
     "output_type": "execute_result"
    }
   ],
   "source": [
    "reg_death = LinearRegression()\n",
    "reg_death.fit(X_train, y_death_train)"
   ]
  },
  {
   "cell_type": "markdown",
   "id": "6b704999",
   "metadata": {
    "papermill": {
     "duration": 0.011275,
     "end_time": "2023-07-03T14:26:40.025230",
     "exception": false,
     "start_time": "2023-07-03T14:26:40.013955",
     "status": "completed"
    },
    "tags": []
   },
   "source": [
    "**Create and train the regression model for predicting injuries**"
   ]
  },
  {
   "cell_type": "code",
   "execution_count": 12,
   "id": "1aa1e928",
   "metadata": {
    "execution": {
     "iopub.execute_input": "2023-07-03T14:26:40.047571Z",
     "iopub.status.busy": "2023-07-03T14:26:40.046853Z",
     "iopub.status.idle": "2023-07-03T14:26:40.055885Z",
     "shell.execute_reply": "2023-07-03T14:26:40.055078Z"
    },
    "papermill": {
     "duration": 0.022527,
     "end_time": "2023-07-03T14:26:40.057924",
     "exception": false,
     "start_time": "2023-07-03T14:26:40.035397",
     "status": "completed"
    },
    "tags": []
   },
   "outputs": [
    {
     "data": {
      "text/html": [
       "<style>#sk-container-id-2 {color: black;background-color: white;}#sk-container-id-2 pre{padding: 0;}#sk-container-id-2 div.sk-toggleable {background-color: white;}#sk-container-id-2 label.sk-toggleable__label {cursor: pointer;display: block;width: 100%;margin-bottom: 0;padding: 0.3em;box-sizing: border-box;text-align: center;}#sk-container-id-2 label.sk-toggleable__label-arrow:before {content: \"▸\";float: left;margin-right: 0.25em;color: #696969;}#sk-container-id-2 label.sk-toggleable__label-arrow:hover:before {color: black;}#sk-container-id-2 div.sk-estimator:hover label.sk-toggleable__label-arrow:before {color: black;}#sk-container-id-2 div.sk-toggleable__content {max-height: 0;max-width: 0;overflow: hidden;text-align: left;background-color: #f0f8ff;}#sk-container-id-2 div.sk-toggleable__content pre {margin: 0.2em;color: black;border-radius: 0.25em;background-color: #f0f8ff;}#sk-container-id-2 input.sk-toggleable__control:checked~div.sk-toggleable__content {max-height: 200px;max-width: 100%;overflow: auto;}#sk-container-id-2 input.sk-toggleable__control:checked~label.sk-toggleable__label-arrow:before {content: \"▾\";}#sk-container-id-2 div.sk-estimator input.sk-toggleable__control:checked~label.sk-toggleable__label {background-color: #d4ebff;}#sk-container-id-2 div.sk-label input.sk-toggleable__control:checked~label.sk-toggleable__label {background-color: #d4ebff;}#sk-container-id-2 input.sk-hidden--visually {border: 0;clip: rect(1px 1px 1px 1px);clip: rect(1px, 1px, 1px, 1px);height: 1px;margin: -1px;overflow: hidden;padding: 0;position: absolute;width: 1px;}#sk-container-id-2 div.sk-estimator {font-family: monospace;background-color: #f0f8ff;border: 1px dotted black;border-radius: 0.25em;box-sizing: border-box;margin-bottom: 0.5em;}#sk-container-id-2 div.sk-estimator:hover {background-color: #d4ebff;}#sk-container-id-2 div.sk-parallel-item::after {content: \"\";width: 100%;border-bottom: 1px solid gray;flex-grow: 1;}#sk-container-id-2 div.sk-label:hover label.sk-toggleable__label {background-color: #d4ebff;}#sk-container-id-2 div.sk-serial::before {content: \"\";position: absolute;border-left: 1px solid gray;box-sizing: border-box;top: 0;bottom: 0;left: 50%;z-index: 0;}#sk-container-id-2 div.sk-serial {display: flex;flex-direction: column;align-items: center;background-color: white;padding-right: 0.2em;padding-left: 0.2em;position: relative;}#sk-container-id-2 div.sk-item {position: relative;z-index: 1;}#sk-container-id-2 div.sk-parallel {display: flex;align-items: stretch;justify-content: center;background-color: white;position: relative;}#sk-container-id-2 div.sk-item::before, #sk-container-id-2 div.sk-parallel-item::before {content: \"\";position: absolute;border-left: 1px solid gray;box-sizing: border-box;top: 0;bottom: 0;left: 50%;z-index: -1;}#sk-container-id-2 div.sk-parallel-item {display: flex;flex-direction: column;z-index: 1;position: relative;background-color: white;}#sk-container-id-2 div.sk-parallel-item:first-child::after {align-self: flex-end;width: 50%;}#sk-container-id-2 div.sk-parallel-item:last-child::after {align-self: flex-start;width: 50%;}#sk-container-id-2 div.sk-parallel-item:only-child::after {width: 0;}#sk-container-id-2 div.sk-dashed-wrapped {border: 1px dashed gray;margin: 0 0.4em 0.5em 0.4em;box-sizing: border-box;padding-bottom: 0.4em;background-color: white;}#sk-container-id-2 div.sk-label label {font-family: monospace;font-weight: bold;display: inline-block;line-height: 1.2em;}#sk-container-id-2 div.sk-label-container {text-align: center;}#sk-container-id-2 div.sk-container {/* jupyter's `normalize.less` sets `[hidden] { display: none; }` but bootstrap.min.css set `[hidden] { display: none !important; }` so we also need the `!important` here to be able to override the default hidden behavior on the sphinx rendered scikit-learn.org. See: https://github.com/scikit-learn/scikit-learn/issues/21755 */display: inline-block !important;position: relative;}#sk-container-id-2 div.sk-text-repr-fallback {display: none;}</style><div id=\"sk-container-id-2\" class=\"sk-top-container\"><div class=\"sk-text-repr-fallback\"><pre>LinearRegression()</pre><b>In a Jupyter environment, please rerun this cell to show the HTML representation or trust the notebook. <br />On GitHub, the HTML representation is unable to render, please try loading this page with nbviewer.org.</b></div><div class=\"sk-container\" hidden><div class=\"sk-item\"><div class=\"sk-estimator sk-toggleable\"><input class=\"sk-toggleable__control sk-hidden--visually\" id=\"sk-estimator-id-2\" type=\"checkbox\" checked><label for=\"sk-estimator-id-2\" class=\"sk-toggleable__label sk-toggleable__label-arrow\">LinearRegression</label><div class=\"sk-toggleable__content\"><pre>LinearRegression()</pre></div></div></div></div></div>"
      ],
      "text/plain": [
       "LinearRegression()"
      ]
     },
     "execution_count": 12,
     "metadata": {},
     "output_type": "execute_result"
    }
   ],
   "source": [
    "reg_injury = LinearRegression()\n",
    "reg_injury.fit(X_train, y_injury_train)"
   ]
  },
  {
   "cell_type": "markdown",
   "id": "b70f00c4",
   "metadata": {
    "papermill": {
     "duration": 0.01001,
     "end_time": "2023-07-03T14:26:40.078647",
     "exception": false,
     "start_time": "2023-07-03T14:26:40.068637",
     "status": "completed"
    },
    "tags": []
   },
   "source": [
    "**Make predictions on the testing set for deaths**"
   ]
  },
  {
   "cell_type": "code",
   "execution_count": 13,
   "id": "b728287a",
   "metadata": {
    "execution": {
     "iopub.execute_input": "2023-07-03T14:26:40.101001Z",
     "iopub.status.busy": "2023-07-03T14:26:40.100304Z",
     "iopub.status.idle": "2023-07-03T14:26:40.105699Z",
     "shell.execute_reply": "2023-07-03T14:26:40.104956Z"
    },
    "papermill": {
     "duration": 0.018975,
     "end_time": "2023-07-03T14:26:40.107789",
     "exception": false,
     "start_time": "2023-07-03T14:26:40.088814",
     "status": "completed"
    },
    "tags": []
   },
   "outputs": [],
   "source": [
    "y_death_pred = reg_death.predict(X_test)"
   ]
  },
  {
   "cell_type": "markdown",
   "id": "c6b17b1a",
   "metadata": {
    "papermill": {
     "duration": 0.009932,
     "end_time": "2023-07-03T14:26:40.128359",
     "exception": false,
     "start_time": "2023-07-03T14:26:40.118427",
     "status": "completed"
    },
    "tags": []
   },
   "source": [
    "**Make predictions on the testing set for injuries**"
   ]
  },
  {
   "cell_type": "code",
   "execution_count": 14,
   "id": "77e1290b",
   "metadata": {
    "execution": {
     "iopub.execute_input": "2023-07-03T14:26:40.150936Z",
     "iopub.status.busy": "2023-07-03T14:26:40.150233Z",
     "iopub.status.idle": "2023-07-03T14:26:40.155612Z",
     "shell.execute_reply": "2023-07-03T14:26:40.154896Z"
    },
    "papermill": {
     "duration": 0.018983,
     "end_time": "2023-07-03T14:26:40.157583",
     "exception": false,
     "start_time": "2023-07-03T14:26:40.138600",
     "status": "completed"
    },
    "tags": []
   },
   "outputs": [],
   "source": [
    "y_injury_pred = reg_injury.predict(X_test)"
   ]
  },
  {
   "cell_type": "markdown",
   "id": "a195c5cc",
   "metadata": {
    "papermill": {
     "duration": 0.010433,
     "end_time": "2023-07-03T14:26:40.178372",
     "exception": false,
     "start_time": "2023-07-03T14:26:40.167939",
     "status": "completed"
    },
    "tags": []
   },
   "source": [
    "**Evaluate the model performance**"
   ]
  },
  {
   "cell_type": "code",
   "execution_count": 15,
   "id": "8d457df6",
   "metadata": {
    "execution": {
     "iopub.execute_input": "2023-07-03T14:26:40.200983Z",
     "iopub.status.busy": "2023-07-03T14:26:40.200268Z",
     "iopub.status.idle": "2023-07-03T14:26:40.208256Z",
     "shell.execute_reply": "2023-07-03T14:26:40.207016Z"
    },
    "papermill": {
     "duration": 0.021705,
     "end_time": "2023-07-03T14:26:40.210480",
     "exception": false,
     "start_time": "2023-07-03T14:26:40.188775",
     "status": "completed"
    },
    "tags": []
   },
   "outputs": [
    {
     "name": "stdout",
     "output_type": "stream",
     "text": [
      "Death Prediction - Mean Squared Error: 2.2651352032516134e-27\n",
      "Death Prediction - Mean Absolute Error: 3.064215547965432e-14\n",
      "Injury Prediction - Mean Squared Error: 1.8383338433953633e-26\n",
      "Injury Prediction - Mean Absolute Error: 8.557599073810706e-14\n"
     ]
    }
   ],
   "source": [
    "mse_death = mean_squared_error(y_death_test, y_death_pred)\n",
    "mae_death = mean_absolute_error(y_death_test, y_death_pred)\n",
    "\n",
    "mse_injury = mean_squared_error(y_injury_test, y_injury_pred)\n",
    "mae_injury = mean_absolute_error(y_injury_test, y_injury_pred)\n",
    "\n",
    "print(\"Death Prediction - Mean Squared Error:\", mse_death)\n",
    "print(\"Death Prediction - Mean Absolute Error:\", mae_death)\n",
    "\n",
    "print(\"Injury Prediction - Mean Squared Error:\", mse_injury)\n",
    "print(\"Injury Prediction - Mean Absolute Error:\", mae_injury)"
   ]
  },
  {
   "cell_type": "markdown",
   "id": "c851ba9c",
   "metadata": {
    "papermill": {
     "duration": 0.010141,
     "end_time": "2023-07-03T14:26:40.231168",
     "exception": false,
     "start_time": "2023-07-03T14:26:40.221027",
     "status": "completed"
    },
    "tags": []
   },
   "source": [
    "**Accident Severity Classification**"
   ]
  },
  {
   "cell_type": "code",
   "execution_count": 16,
   "id": "c36f67aa",
   "metadata": {
    "execution": {
     "iopub.execute_input": "2023-07-03T14:26:40.253850Z",
     "iopub.status.busy": "2023-07-03T14:26:40.253177Z",
     "iopub.status.idle": "2023-07-03T14:26:40.720590Z",
     "shell.execute_reply": "2023-07-03T14:26:40.719201Z"
    },
    "papermill": {
     "duration": 0.48157,
     "end_time": "2023-07-03T14:26:40.723014",
     "exception": false,
     "start_time": "2023-07-03T14:26:40.241444",
     "status": "completed"
    },
    "tags": []
   },
   "outputs": [
    {
     "name": "stdout",
     "output_type": "stream",
     "text": [
      "Accuracy: 0.85\n"
     ]
    }
   ],
   "source": [
    "# Import necessary libraries\n",
    "from sklearn.model_selection import train_test_split\n",
    "from sklearn.ensemble import RandomForestClassifier\n",
    "from sklearn.metrics import accuracy_score\n",
    "\n",
    "# Select the relevant columns for the classification model\n",
    "X = df[['Person Killed', 'Person Injured']]\n",
    "y = df['Accident Severity']\n",
    "\n",
    "# Split the data into training and testing sets\n",
    "X_train, X_test, y_train, y_test = train_test_split(X, y, test_size=0.2, random_state=42)\n",
    "\n",
    "# Create and train the random forest classifier model\n",
    "clf = RandomForestClassifier()\n",
    "clf.fit(X_train, y_train)\n",
    "\n",
    "# Make predictions on the testing set\n",
    "y_pred = clf.predict(X_test)\n",
    "\n",
    "# Evaluate the model accuracy\n",
    "accuracy = accuracy_score(y_test, y_pred)\n",
    "print(\"Accuracy:\", accuracy)"
   ]
  },
  {
   "cell_type": "markdown",
   "id": "63732569",
   "metadata": {
    "papermill": {
     "duration": 0.010101,
     "end_time": "2023-07-03T14:26:40.744413",
     "exception": false,
     "start_time": "2023-07-03T14:26:40.734312",
     "status": "completed"
    },
    "tags": []
   },
   "source": [
    "# Interpreting Results and Creating a Strategy"
   ]
  },
  {
   "cell_type": "code",
   "execution_count": 17,
   "id": "9a68d7d3",
   "metadata": {
    "execution": {
     "iopub.execute_input": "2023-07-03T14:26:40.766838Z",
     "iopub.status.busy": "2023-07-03T14:26:40.766441Z",
     "iopub.status.idle": "2023-07-03T14:26:40.775104Z",
     "shell.execute_reply": "2023-07-03T14:26:40.773993Z"
    },
    "papermill": {
     "duration": 0.022475,
     "end_time": "2023-07-03T14:26:40.777214",
     "exception": false,
     "start_time": "2023-07-03T14:26:40.754739",
     "status": "completed"
    },
    "tags": []
   },
   "outputs": [
    {
     "name": "stdout",
     "output_type": "stream",
     "text": [
      "Interpretation of Model Results:\n",
      "---------------------------------\n",
      "Deaths Prediction:\n",
      "   Intercept: 0.00\n",
      "   Coefficients:  [ 1.000000e+00 -8.273319e-17]\n",
      "\n",
      "Injuries Prediction:\n",
      "   Intercept: 0.00\n",
      "   Coefficients:  [7.31026903e-16 1.00000000e+00]\n",
      "\n",
      "Strategies and Policy Recommendations to Reduce Accidents:\n",
      "-------------------------------------------------------\n",
      "1. Increase road safety awareness campaigns to educate people about the risks and consequences of road accidents.\n",
      "2. Improve traffic enforcement measures, such as increasing police presence and enforcing stricter penalties for traffic violations.\n",
      "3. Enhance road infrastructure, including better road design, maintenance, and implementation of safety measures (e.g., speed limits, traffic signs, signals).\n",
      "4. Promote public transportation options to reduce the number of vehicles on the road and minimize traffic congestion.\n",
      "5. Strengthen driver training and licensing programs to ensure that drivers are well-prepared and knowledgeable about traffic rules and safety practices.\n",
      "6. Implement stricter regulations for vehicle safety standards and regular inspections to ensure that vehicles are roadworthy.\n",
      "7. Foster collaboration between relevant stakeholders, including government agencies, law enforcement, transportation authorities, and community organizations, to address road safety challenges collectively.\n",
      "8. Continuously monitor and evaluate the effectiveness of implemented strategies, making adjustments and improvements as needed.\n"
     ]
    }
   ],
   "source": [
    "# Interpretation of model results\n",
    "print(\"Interpretation of Model Results:\")\n",
    "print(\"---------------------------------\")\n",
    "print(\"Deaths Prediction:\")\n",
    "print(\"   Intercept: {:.2f}\".format(reg_death.intercept_))\n",
    "print(\"   Coefficients: \", reg_death.coef_)\n",
    "print(\"\\nInjuries Prediction:\")\n",
    "print(\"   Intercept: {:.2f}\".format(reg_injury.intercept_))\n",
    "print(\"   Coefficients: \", reg_injury.coef_)\n",
    "\n",
    "# Generate strategies and policy recommendations based on the findings\n",
    "strategies = [\n",
    "    \"Increase road safety awareness campaigns to educate people about the risks and consequences of road accidents.\",\n",
    "    \"Improve traffic enforcement measures, such as increasing police presence and enforcing stricter penalties for traffic violations.\",\n",
    "    \"Enhance road infrastructure, including better road design, maintenance, and implementation of safety measures (e.g., speed limits, traffic signs, signals).\",\n",
    "    \"Promote public transportation options to reduce the number of vehicles on the road and minimize traffic congestion.\",\n",
    "    \"Strengthen driver training and licensing programs to ensure that drivers are well-prepared and knowledgeable about traffic rules and safety practices.\",\n",
    "    \"Implement stricter regulations for vehicle safety standards and regular inspections to ensure that vehicles are roadworthy.\",\n",
    "    \"Foster collaboration between relevant stakeholders, including government agencies, law enforcement, transportation authorities, and community organizations, to address road safety challenges collectively.\",\n",
    "    \"Continuously monitor and evaluate the effectiveness of implemented strategies, making adjustments and improvements as needed.\"\n",
    "]\n",
    "\n",
    "# Print the strategies and policy recommendations\n",
    "print(\"\\nStrategies and Policy Recommendations to Reduce Accidents:\")\n",
    "print(\"-------------------------------------------------------\")\n",
    "for i, strategy in enumerate(strategies):\n",
    "    print(\"{}. {}\".format(i+1, strategy))"
   ]
  },
  {
   "cell_type": "markdown",
   "id": "e62a294a",
   "metadata": {
    "papermill": {
     "duration": 0.010166,
     "end_time": "2023-07-03T14:26:40.798136",
     "exception": false,
     "start_time": "2023-07-03T14:26:40.787970",
     "status": "completed"
    },
    "tags": []
   },
   "source": [
    "# Road Accident Analysis Report\n",
    "\n",
    "## Introduction\n",
    "In this report, we analyze road accident data in Pakistan from 2012 to 2021. The dataset provides information about the total number of accidents, fatal and non-fatal accidents, the number of people killed and injured, and the total number of vehicles involved. The objective of this analysis is to gain insights into road accidents, identify trends, and propose strategies for accident prevention.\n",
    "\n",
    "## Data Exploration and Preprocessing\n",
    "We began by importing the dataset and performing initial data exploration. We checked for missing values and handled them appropriately. We also examined the data types and made necessary conversions. Outliers in the 'Total Number of Accident' column were identified using the IQR method and were handled accordingly.\n",
    "\n",
    "## Exploratory Data Analysis (EDA)\n",
    "During EDA, we conducted several analyses to better understand the data and uncover insights:\n",
    "1. Distribution of Features: We analyzed the distributions of various features using histograms to visualize their spread and identify any patterns or outliers.\n",
    "2. Accident Trends Over Time: We examined the total number of accidents over time, identifying any trends or seasonal effects using line plots.\n",
    "3. Fatal vs. Non-Fatal Accidents: We explored the nature of accidents by analyzing the count of fatal and non-fatal accidents, providing insights into the severity of accidents.\n",
    "4. Impact of Vehicles on Accident Severity: We investigated the relationship between the number of vehicles involved and accident severity using box plots.\n",
    "\n",
    "## Regression Model for Deaths and Injuries Prediction\n",
    "To predict the number of deaths and injuries in accidents, we built separate regression models. We used the 'Person Killed' and 'Person Injured' columns as predictors and trained linear regression models. The models were evaluated using mean squared error (MSE) and mean absolute error (MAE) metrics.\n",
    "\n",
    "## Model Results and Interpretation\n",
    "The regression models yielded the following results:\n",
    "- Deaths Prediction: Intercept = <intercept>, Coefficients = <coefficients>\n",
    "- Injuries Prediction: Intercept = <intercept>, Coefficients = <coefficients>\n",
    "\n",
    "The coefficients indicate the impact of 'Person Killed' and 'Person Injured' on predicting the number of deaths and injuries, respectively.\n",
    "\n",
    "## Strategies and Policy Recommendations\n",
    "Based on the findings from the analysis, we propose the following strategies and policy recommendations to reduce accidents:\n",
    "1. Increase road safety awareness campaigns to educate people about the risks and consequences of road accidents.\n",
    "2. Improve traffic enforcement measures, such as increasing police presence and enforcing stricter penalties for traffic violations.\n",
    "3. Enhance road infrastructure, including better road design, maintenance, and implementation of safety measures (e.g., speed limits, traffic signs, signals).\n",
    "4. Promote public transportation options to reduce the number of vehicles on the road and minimize traffic congestion.\n",
    "5. Strengthen driver training and licensing programs to ensure that drivers are well-prepared and knowledgeable about traffic rules and safety practices.\n",
    "6. Implement stricter regulations for vehicle safety standards and regular inspections to ensure that vehicles are roadworthy.\n",
    "7. Foster collaboration between relevant stakeholders, including government agencies, law enforcement, transportation authorities, and community organizations, to address road safety challenges collectively.\n",
    "8. Continuously monitor and evaluate the effectiveness of implemented strategies, making adjustments and improvements as needed.\n",
    "\n",
    "## Conclusion\n",
    "In conclusion, this analysis provides valuable insights into road accidents in Pakistan. The regression models allow for the prediction of the number of deaths and injuries, while the EDA findings highlight trends, seasonal effects, and accident severity. By implementing the proposed strategies and policy recommendations, we can work towards reducing road accidents and creating a safer transportation environment.\n",
    "\n",
    "## Future Work\n",
    "For future work, it would be beneficial to further investigate additional factors that contribute to accidents, such as weather conditions, road types, and driver demographics. Additionally, applying more advanced modeling techniques and exploring other datasets related to road safety could provide further insights and improve prediction accuracy.\n",
    "\n",
    "## References\n",
    "road-accident-in-pakistan-2012-2021"
   ]
  }
 ],
 "metadata": {
  "kernelspec": {
   "display_name": "Python 3",
   "language": "python",
   "name": "python3"
  },
  "language_info": {
   "codemirror_mode": {
    "name": "ipython",
    "version": 3
   },
   "file_extension": ".py",
   "mimetype": "text/x-python",
   "name": "python",
   "nbconvert_exporter": "python",
   "pygments_lexer": "ipython3",
   "version": "3.10.10"
  },
  "papermill": {
   "default_parameters": {},
   "duration": 16.958207,
   "end_time": "2023-07-03T14:26:41.831019",
   "environment_variables": {},
   "exception": null,
   "input_path": "__notebook__.ipynb",
   "output_path": "__notebook__.ipynb",
   "parameters": {},
   "start_time": "2023-07-03T14:26:24.872812",
   "version": "2.4.0"
  }
 },
 "nbformat": 4,
 "nbformat_minor": 5
}
